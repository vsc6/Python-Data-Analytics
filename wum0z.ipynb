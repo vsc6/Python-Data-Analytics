{
  "nbformat": 4,
  "nbformat_minor": 0,
  "metadata": {
    "colab": {
      "name": "wum0z.ipynb",
      "provenance": [],
      "collapsed_sections": [],
      "include_colab_link": true
    },
    "kernelspec": {
      "display_name": "Python 3",
      "language": "python",
      "name": "python3"
    },
    "language_info": {
      "codemirror_mode": {
        "name": "ipython",
        "version": 3
      },
      "file_extension": ".py",
      "mimetype": "text/x-python",
      "name": "python",
      "nbconvert_exporter": "python",
      "pygments_lexer": "ipython3",
      "version": "3.6.8"
    }
  },
  "cells": [
    {
      "cell_type": "markdown",
      "metadata": {
        "id": "view-in-github",
        "colab_type": "text"
      },
      "source": [
        "<a href=\"https://colab.research.google.com/github/vsc6/Python-Data-Analytics/blob/master/wum0z.ipynb\" target=\"_parent\"><img src=\"https://colab.research.google.com/assets/colab-badge.svg\" alt=\"Open In Colab\"/></a>"
      ]
    },
    {
      "cell_type": "markdown",
      "metadata": {
        "colab_type": "text",
        "id": "C0oqirWepg4T"
      },
      "source": [
        "# NumPy\n",
        "1. Utwórz tablicę w numpy o wymiarach (5,4) automatycznie uzupełniając ją kolejnymi liczbami od 1 do 20. Możesz wykorzystać np arange i reshape. \n",
        "\n",
        "  Następnie, do każdej wartości w pierwszej i ostatniej kolumnie dodaj 1. Wykorzystaj broadcasting i wektor. Wyswietl otrzymaną tablicę. Nie używaj pętli."
      ]
    },
    {
      "cell_type": "code",
      "metadata": {
        "colab_type": "code",
        "id": "YPD0Z5vllFq1",
        "outputId": "81119607-b3b6-4a64-fd5b-38c58b08a809",
        "colab": {
          "base_uri": "https://localhost:8080/",
          "height": 104
        }
      },
      "source": [
        "import numpy as np\n",
        "from numpy import array\n",
        "a = np.arange(1,21).reshape(5, 4)\n",
        "a"
      ],
      "execution_count": 0,
      "outputs": [
        {
          "output_type": "execute_result",
          "data": {
            "text/plain": [
              "array([[ 1,  2,  3,  4],\n",
              "       [ 5,  6,  7,  8],\n",
              "       [ 9, 10, 11, 12],\n",
              "       [13, 14, 15, 16],\n",
              "       [17, 18, 19, 20]])"
            ]
          },
          "metadata": {
            "tags": []
          },
          "execution_count": 2
        }
      ]
    },
    {
      "cell_type": "markdown",
      "metadata": {
        "id": "wPKqst5-XUCn",
        "colab_type": "text"
      },
      "source": [
        ""
      ]
    },
    {
      "cell_type": "code",
      "metadata": {
        "id": "qI6lb0RipCe1",
        "colab_type": "code",
        "outputId": "135e35f4-cedf-4a9d-a0ff-f3f1f7658c12",
        "colab": {
          "base_uri": "https://localhost:8080/",
          "height": 35
        }
      },
      "source": [
        "b = [1,1,1,1,1]\n",
        "b\n"
      ],
      "execution_count": 0,
      "outputs": [
        {
          "output_type": "execute_result",
          "data": {
            "text/plain": [
              "array([1, 1, 1, 1, 1])"
            ]
          },
          "metadata": {
            "tags": []
          },
          "execution_count": 53
        }
      ]
    },
    {
      "cell_type": "code",
      "metadata": {
        "id": "xhfxv5PZPF5U",
        "colab_type": "code",
        "outputId": "c3dee29c-261e-4660-be6d-39caa2c057e6",
        "colab": {
          "base_uri": "https://localhost:8080/",
          "height": 104
        }
      },
      "source": [
        "a[:,0] = a[:,0] + b\n",
        "a[:,-1] = a[:,-1] + b\n",
        "a"
      ],
      "execution_count": 0,
      "outputs": [
        {
          "output_type": "execute_result",
          "data": {
            "text/plain": [
              "array([[ 2,  2,  3,  5],\n",
              "       [ 6,  6,  7,  9],\n",
              "       [10, 10, 11, 13],\n",
              "       [14, 14, 15, 17],\n",
              "       [18, 18, 19, 21]])"
            ]
          },
          "metadata": {
            "tags": []
          },
          "execution_count": 66
        }
      ]
    },
    {
      "cell_type": "markdown",
      "metadata": {
        "colab_type": "text",
        "id": "lbw8vqcUm9S5"
      },
      "source": [
        "# Pandas i wczytywanie danych do colab\n",
        "\n",
        "2. Wczytaj pliki pogoda.csv pogoda2.csv na Google drive lub otwórz bezpośrednio   z lokalnego dysku. Znajdz w panelu \"Code snippets\" (z lewej) jak to zrobić. \n",
        "\n",
        "  Wykorzystując bibliotekę pandas wczytaj dane z pliku *pogoda.csv* i utwórz dataframe o nazwie **A**. Dodaj do **A** dane ze słownika **B**(podany poniżej). Wczytaj dane z pliku pogoda2 do dataframe o nazwie **C**.  Połącz **A** i **C** według kolumny *godzina* zachowując podobne formatowanie danych*."
      ]
    },
    {
      "cell_type": "code",
      "metadata": {
        "colab_type": "code",
        "id": "xoVX_TZBxY-p",
        "colab": {}
      },
      "source": [
        " B=[{\"godzina\":\"10:00:00 AM\", \"temperatura [C]\":19,  \"szansa opadów [%]\":0} , {\"godzina\":\"11:00:00 AM\", \"temperatura [C]\":22,  \"szansa opadów [%]\":0} ]"
      ],
      "execution_count": 0,
      "outputs": []
    },
    {
      "cell_type": "code",
      "metadata": {
        "id": "zci3ArK_BMRJ",
        "colab_type": "code",
        "colab": {}
      },
      "source": [
        "from pydrive.auth import GoogleAuth\n",
        "from pydrive.drive import GoogleDrive\n",
        "from google.colab import auth\n",
        "from oauth2client.client import GoogleCredentials"
      ],
      "execution_count": 0,
      "outputs": []
    },
    {
      "cell_type": "code",
      "metadata": {
        "id": "0TGjHDAwBQtl",
        "colab_type": "code",
        "colab": {}
      },
      "source": [
        "auth.authenticate_user()\n",
        "gauth = GoogleAuth()\n",
        "gauth.credentials = GoogleCredentials.get_application_default()\n",
        "drive = GoogleDrive(gauth)"
      ],
      "execution_count": 0,
      "outputs": []
    },
    {
      "cell_type": "code",
      "metadata": {
        "id": "Z8h16bF3ByHJ",
        "colab_type": "code",
        "outputId": "d1976154-da0f-47af-8d9c-226fbfa5526e",
        "colab": {
          "base_uri": "https://localhost:8080/",
          "height": 342
        }
      },
      "source": [
        "link = 'https://drive.google.com/open?id=1PSogf30RHoas63PShVHEwB4dXs_KrABQ'\n",
        "fluff, id = link.split('=')\n",
        "print (id)\n",
        "downloaded = drive.CreateFile({'id':id}) \n",
        "downloaded.GetContentFile('pogoda.csv')  \n",
        "A = pd.read_csv('pogoda.csv')\n",
        "A"
      ],
      "execution_count": 0,
      "outputs": [
        {
          "output_type": "stream",
          "text": [
            "1PSogf30RHoas63PShVHEwB4dXs_KrABQ\n"
          ],
          "name": "stdout"
        },
        {
          "output_type": "execute_result",
          "data": {
            "text/html": [
              "<div>\n",
              "<style scoped>\n",
              "    .dataframe tbody tr th:only-of-type {\n",
              "        vertical-align: middle;\n",
              "    }\n",
              "\n",
              "    .dataframe tbody tr th {\n",
              "        vertical-align: top;\n",
              "    }\n",
              "\n",
              "    .dataframe thead th {\n",
              "        text-align: right;\n",
              "    }\n",
              "</style>\n",
              "<table border=\"1\" class=\"dataframe\">\n",
              "  <thead>\n",
              "    <tr style=\"text-align: right;\">\n",
              "      <th></th>\n",
              "      <th>godzina</th>\n",
              "      <th>temperatura [C]</th>\n",
              "      <th>szansa opadów [%]</th>\n",
              "    </tr>\n",
              "  </thead>\n",
              "  <tbody>\n",
              "    <tr>\n",
              "      <th>0</th>\n",
              "      <td>01:00:00 AM</td>\n",
              "      <td>11</td>\n",
              "      <td>0</td>\n",
              "    </tr>\n",
              "    <tr>\n",
              "      <th>1</th>\n",
              "      <td>02:00:00 AM</td>\n",
              "      <td>10</td>\n",
              "      <td>5</td>\n",
              "    </tr>\n",
              "    <tr>\n",
              "      <th>2</th>\n",
              "      <td>03:00:00 AM</td>\n",
              "      <td>9</td>\n",
              "      <td>20</td>\n",
              "    </tr>\n",
              "    <tr>\n",
              "      <th>3</th>\n",
              "      <td>04:00:00 AM</td>\n",
              "      <td>10</td>\n",
              "      <td>60</td>\n",
              "    </tr>\n",
              "    <tr>\n",
              "      <th>4</th>\n",
              "      <td>05:00:00 AM</td>\n",
              "      <td>10</td>\n",
              "      <td>40</td>\n",
              "    </tr>\n",
              "    <tr>\n",
              "      <th>5</th>\n",
              "      <td>06:00:00 AM</td>\n",
              "      <td>11</td>\n",
              "      <td>20</td>\n",
              "    </tr>\n",
              "    <tr>\n",
              "      <th>6</th>\n",
              "      <td>07:00:00 AM</td>\n",
              "      <td>13</td>\n",
              "      <td>20</td>\n",
              "    </tr>\n",
              "    <tr>\n",
              "      <th>7</th>\n",
              "      <td>08:00:00 AM</td>\n",
              "      <td>15</td>\n",
              "      <td>10</td>\n",
              "    </tr>\n",
              "    <tr>\n",
              "      <th>8</th>\n",
              "      <td>09:00:00 AM</td>\n",
              "      <td>17</td>\n",
              "      <td>10</td>\n",
              "    </tr>\n",
              "  </tbody>\n",
              "</table>\n",
              "</div>"
            ],
            "text/plain": [
              "       godzina  temperatura [C]  szansa opadów [%]\n",
              "0  01:00:00 AM               11                  0\n",
              "1  02:00:00 AM               10                  5\n",
              "2  03:00:00 AM                9                 20\n",
              "3  04:00:00 AM               10                 60\n",
              "4  05:00:00 AM               10                 40\n",
              "5  06:00:00 AM               11                 20\n",
              "6  07:00:00 AM               13                 20\n",
              "7  08:00:00 AM               15                 10\n",
              "8  09:00:00 AM               17                 10"
            ]
          },
          "metadata": {
            "tags": []
          },
          "execution_count": 46
        }
      ]
    },
    {
      "cell_type": "code",
      "metadata": {
        "colab_type": "code",
        "id": "7ZpkzTOVzr2W",
        "colab": {}
      },
      "source": [
        "import pandas as pd"
      ],
      "execution_count": 0,
      "outputs": []
    },
    {
      "cell_type": "code",
      "metadata": {
        "id": "JByTwPKPZK4S",
        "colab_type": "code",
        "outputId": "e5a0b2cf-717b-4256-b81b-f381a273e045",
        "colab": {
          "base_uri": "https://localhost:8080/",
          "height": 52
        }
      },
      "source": [
        "B"
      ],
      "execution_count": 0,
      "outputs": [
        {
          "output_type": "execute_result",
          "data": {
            "text/plain": [
              "[{'godzina': '10:00:00 AM', 'szansa opadów [%]': 0, 'temperatura [C]': 19},\n",
              " {'godzina': '11:00:00 AM', 'szansa opadów [%]': 0, 'temperatura [C]': 22}]"
            ]
          },
          "metadata": {
            "tags": []
          },
          "execution_count": 93
        }
      ]
    },
    {
      "cell_type": "code",
      "metadata": {
        "id": "T6F1NcOOZP8C",
        "colab_type": "code",
        "outputId": "23677000-fc30-4f7f-96e1-3ced44aa77e5",
        "colab": {
          "base_uri": "https://localhost:8080/",
          "height": 403
        }
      },
      "source": [
        "link_2 = 'https://drive.google.com/open?id=17lyuiH9-OUpfTGA6qwRc_ZildhI4bdQ7'\n",
        "fluff, id = link_2.split('=')\n",
        "print (id)\n",
        "downloaded = drive.CreateFile({'id':id}) \n",
        "downloaded.GetContentFile('pogoda_2.csv')  \n",
        "C = pd.read_csv('pogoda_2.csv')\n",
        "C"
      ],
      "execution_count": 0,
      "outputs": [
        {
          "output_type": "stream",
          "text": [
            "17lyuiH9-OUpfTGA6qwRc_ZildhI4bdQ7\n"
          ],
          "name": "stdout"
        },
        {
          "output_type": "execute_result",
          "data": {
            "text/html": [
              "<div>\n",
              "<style scoped>\n",
              "    .dataframe tbody tr th:only-of-type {\n",
              "        vertical-align: middle;\n",
              "    }\n",
              "\n",
              "    .dataframe tbody tr th {\n",
              "        vertical-align: top;\n",
              "    }\n",
              "\n",
              "    .dataframe thead th {\n",
              "        text-align: right;\n",
              "    }\n",
              "</style>\n",
              "<table border=\"1\" class=\"dataframe\">\n",
              "  <thead>\n",
              "    <tr style=\"text-align: right;\">\n",
              "      <th></th>\n",
              "      <th>godzina</th>\n",
              "      <th>wiatr [km/h]</th>\n",
              "    </tr>\n",
              "  </thead>\n",
              "  <tbody>\n",
              "    <tr>\n",
              "      <th>0</th>\n",
              "      <td>01:00</td>\n",
              "      <td>5</td>\n",
              "    </tr>\n",
              "    <tr>\n",
              "      <th>1</th>\n",
              "      <td>02:00</td>\n",
              "      <td>5</td>\n",
              "    </tr>\n",
              "    <tr>\n",
              "      <th>2</th>\n",
              "      <td>03:00</td>\n",
              "      <td>10</td>\n",
              "    </tr>\n",
              "    <tr>\n",
              "      <th>3</th>\n",
              "      <td>04:00</td>\n",
              "      <td>50</td>\n",
              "    </tr>\n",
              "    <tr>\n",
              "      <th>4</th>\n",
              "      <td>05:00</td>\n",
              "      <td>20</td>\n",
              "    </tr>\n",
              "    <tr>\n",
              "      <th>5</th>\n",
              "      <td>06:00</td>\n",
              "      <td>30</td>\n",
              "    </tr>\n",
              "    <tr>\n",
              "      <th>6</th>\n",
              "      <td>07:00</td>\n",
              "      <td>10</td>\n",
              "    </tr>\n",
              "    <tr>\n",
              "      <th>7</th>\n",
              "      <td>08:00</td>\n",
              "      <td>10</td>\n",
              "    </tr>\n",
              "    <tr>\n",
              "      <th>8</th>\n",
              "      <td>09:00</td>\n",
              "      <td>5</td>\n",
              "    </tr>\n",
              "    <tr>\n",
              "      <th>9</th>\n",
              "      <td>10:00</td>\n",
              "      <td>5</td>\n",
              "    </tr>\n",
              "    <tr>\n",
              "      <th>10</th>\n",
              "      <td>11:00</td>\n",
              "      <td>5</td>\n",
              "    </tr>\n",
              "  </tbody>\n",
              "</table>\n",
              "</div>"
            ],
            "text/plain": [
              "   godzina  wiatr [km/h]\n",
              "0    01:00             5\n",
              "1    02:00             5\n",
              "2    03:00            10\n",
              "3    04:00            50\n",
              "4    05:00            20\n",
              "5    06:00            30\n",
              "6    07:00            10\n",
              "7    08:00            10\n",
              "8    09:00             5\n",
              "9    10:00             5\n",
              "10   11:00             5"
            ]
          },
          "metadata": {
            "tags": []
          },
          "execution_count": 47
        }
      ]
    },
    {
      "cell_type": "code",
      "metadata": {
        "id": "iOuaFba7ZQkq",
        "colab_type": "code",
        "outputId": "c669063f-2bea-4ebe-dfaa-907d70288dfd",
        "colab": {
          "base_uri": "https://localhost:8080/",
          "height": 386
        }
      },
      "source": [
        "AB = A.append(B, ignore_index= True, sort=False)\n",
        "AB"
      ],
      "execution_count": 0,
      "outputs": [
        {
          "output_type": "execute_result",
          "data": {
            "text/html": [
              "<div>\n",
              "<style scoped>\n",
              "    .dataframe tbody tr th:only-of-type {\n",
              "        vertical-align: middle;\n",
              "    }\n",
              "\n",
              "    .dataframe tbody tr th {\n",
              "        vertical-align: top;\n",
              "    }\n",
              "\n",
              "    .dataframe thead th {\n",
              "        text-align: right;\n",
              "    }\n",
              "</style>\n",
              "<table border=\"1\" class=\"dataframe\">\n",
              "  <thead>\n",
              "    <tr style=\"text-align: right;\">\n",
              "      <th></th>\n",
              "      <th>godzina</th>\n",
              "      <th>temperatura [C]</th>\n",
              "      <th>szansa opadów [%]</th>\n",
              "    </tr>\n",
              "  </thead>\n",
              "  <tbody>\n",
              "    <tr>\n",
              "      <th>0</th>\n",
              "      <td>01:00:00 AM</td>\n",
              "      <td>11</td>\n",
              "      <td>0</td>\n",
              "    </tr>\n",
              "    <tr>\n",
              "      <th>1</th>\n",
              "      <td>02:00:00 AM</td>\n",
              "      <td>10</td>\n",
              "      <td>5</td>\n",
              "    </tr>\n",
              "    <tr>\n",
              "      <th>2</th>\n",
              "      <td>03:00:00 AM</td>\n",
              "      <td>9</td>\n",
              "      <td>20</td>\n",
              "    </tr>\n",
              "    <tr>\n",
              "      <th>3</th>\n",
              "      <td>04:00:00 AM</td>\n",
              "      <td>10</td>\n",
              "      <td>60</td>\n",
              "    </tr>\n",
              "    <tr>\n",
              "      <th>4</th>\n",
              "      <td>05:00:00 AM</td>\n",
              "      <td>10</td>\n",
              "      <td>40</td>\n",
              "    </tr>\n",
              "    <tr>\n",
              "      <th>5</th>\n",
              "      <td>06:00:00 AM</td>\n",
              "      <td>11</td>\n",
              "      <td>20</td>\n",
              "    </tr>\n",
              "    <tr>\n",
              "      <th>6</th>\n",
              "      <td>07:00:00 AM</td>\n",
              "      <td>13</td>\n",
              "      <td>20</td>\n",
              "    </tr>\n",
              "    <tr>\n",
              "      <th>7</th>\n",
              "      <td>08:00:00 AM</td>\n",
              "      <td>15</td>\n",
              "      <td>10</td>\n",
              "    </tr>\n",
              "    <tr>\n",
              "      <th>8</th>\n",
              "      <td>09:00:00 AM</td>\n",
              "      <td>17</td>\n",
              "      <td>10</td>\n",
              "    </tr>\n",
              "    <tr>\n",
              "      <th>9</th>\n",
              "      <td>10:00:00 AM</td>\n",
              "      <td>19</td>\n",
              "      <td>0</td>\n",
              "    </tr>\n",
              "    <tr>\n",
              "      <th>10</th>\n",
              "      <td>11:00:00 AM</td>\n",
              "      <td>22</td>\n",
              "      <td>0</td>\n",
              "    </tr>\n",
              "  </tbody>\n",
              "</table>\n",
              "</div>"
            ],
            "text/plain": [
              "        godzina  temperatura [C]  szansa opadów [%]\n",
              "0   01:00:00 AM               11                  0\n",
              "1   02:00:00 AM               10                  5\n",
              "2   03:00:00 AM                9                 20\n",
              "3   04:00:00 AM               10                 60\n",
              "4   05:00:00 AM               10                 40\n",
              "5   06:00:00 AM               11                 20\n",
              "6   07:00:00 AM               13                 20\n",
              "7   08:00:00 AM               15                 10\n",
              "8   09:00:00 AM               17                 10\n",
              "9   10:00:00 AM               19                  0\n",
              "10  11:00:00 AM               22                  0"
            ]
          },
          "metadata": {
            "tags": []
          },
          "execution_count": 97
        }
      ]
    },
    {
      "cell_type": "code",
      "metadata": {
        "id": "rK0qUJ1fZTYa",
        "colab_type": "code",
        "outputId": "4a01d163-d3c9-4eff-f2dd-f12d86643c81",
        "colab": {
          "base_uri": "https://localhost:8080/",
          "height": 386
        }
      },
      "source": [
        "AB.join(C['wiatr [km/h]'])"
      ],
      "execution_count": 0,
      "outputs": [
        {
          "output_type": "execute_result",
          "data": {
            "text/html": [
              "<div>\n",
              "<style scoped>\n",
              "    .dataframe tbody tr th:only-of-type {\n",
              "        vertical-align: middle;\n",
              "    }\n",
              "\n",
              "    .dataframe tbody tr th {\n",
              "        vertical-align: top;\n",
              "    }\n",
              "\n",
              "    .dataframe thead th {\n",
              "        text-align: right;\n",
              "    }\n",
              "</style>\n",
              "<table border=\"1\" class=\"dataframe\">\n",
              "  <thead>\n",
              "    <tr style=\"text-align: right;\">\n",
              "      <th></th>\n",
              "      <th>godzina</th>\n",
              "      <th>temperatura [C]</th>\n",
              "      <th>szansa opadów [%]</th>\n",
              "      <th>wiatr [km/h]</th>\n",
              "    </tr>\n",
              "  </thead>\n",
              "  <tbody>\n",
              "    <tr>\n",
              "      <th>0</th>\n",
              "      <td>01:00:00 AM</td>\n",
              "      <td>11</td>\n",
              "      <td>0</td>\n",
              "      <td>5</td>\n",
              "    </tr>\n",
              "    <tr>\n",
              "      <th>1</th>\n",
              "      <td>02:00:00 AM</td>\n",
              "      <td>10</td>\n",
              "      <td>5</td>\n",
              "      <td>5</td>\n",
              "    </tr>\n",
              "    <tr>\n",
              "      <th>2</th>\n",
              "      <td>03:00:00 AM</td>\n",
              "      <td>9</td>\n",
              "      <td>20</td>\n",
              "      <td>10</td>\n",
              "    </tr>\n",
              "    <tr>\n",
              "      <th>3</th>\n",
              "      <td>04:00:00 AM</td>\n",
              "      <td>10</td>\n",
              "      <td>60</td>\n",
              "      <td>50</td>\n",
              "    </tr>\n",
              "    <tr>\n",
              "      <th>4</th>\n",
              "      <td>05:00:00 AM</td>\n",
              "      <td>10</td>\n",
              "      <td>40</td>\n",
              "      <td>20</td>\n",
              "    </tr>\n",
              "    <tr>\n",
              "      <th>5</th>\n",
              "      <td>06:00:00 AM</td>\n",
              "      <td>11</td>\n",
              "      <td>20</td>\n",
              "      <td>30</td>\n",
              "    </tr>\n",
              "    <tr>\n",
              "      <th>6</th>\n",
              "      <td>07:00:00 AM</td>\n",
              "      <td>13</td>\n",
              "      <td>20</td>\n",
              "      <td>10</td>\n",
              "    </tr>\n",
              "    <tr>\n",
              "      <th>7</th>\n",
              "      <td>08:00:00 AM</td>\n",
              "      <td>15</td>\n",
              "      <td>10</td>\n",
              "      <td>10</td>\n",
              "    </tr>\n",
              "    <tr>\n",
              "      <th>8</th>\n",
              "      <td>09:00:00 AM</td>\n",
              "      <td>17</td>\n",
              "      <td>10</td>\n",
              "      <td>5</td>\n",
              "    </tr>\n",
              "    <tr>\n",
              "      <th>9</th>\n",
              "      <td>10:00:00 AM</td>\n",
              "      <td>19</td>\n",
              "      <td>0</td>\n",
              "      <td>5</td>\n",
              "    </tr>\n",
              "    <tr>\n",
              "      <th>10</th>\n",
              "      <td>11:00:00 AM</td>\n",
              "      <td>22</td>\n",
              "      <td>0</td>\n",
              "      <td>5</td>\n",
              "    </tr>\n",
              "  </tbody>\n",
              "</table>\n",
              "</div>"
            ],
            "text/plain": [
              "        godzina  temperatura [C]  szansa opadów [%]  wiatr [km/h]\n",
              "0   01:00:00 AM               11                  0             5\n",
              "1   02:00:00 AM               10                  5             5\n",
              "2   03:00:00 AM                9                 20            10\n",
              "3   04:00:00 AM               10                 60            50\n",
              "4   05:00:00 AM               10                 40            20\n",
              "5   06:00:00 AM               11                 20            30\n",
              "6   07:00:00 AM               13                 20            10\n",
              "7   08:00:00 AM               15                 10            10\n",
              "8   09:00:00 AM               17                 10             5\n",
              "9   10:00:00 AM               19                  0             5\n",
              "10  11:00:00 AM               22                  0             5"
            ]
          },
          "metadata": {
            "tags": []
          },
          "execution_count": 109
        }
      ]
    },
    {
      "cell_type": "code",
      "metadata": {
        "id": "7HtXND-qcLYS",
        "colab_type": "code",
        "outputId": "fd095788-36b8-44e5-a3c3-87ebd5b2a23b",
        "colab": {
          "base_uri": "https://localhost:8080/",
          "height": 107
        }
      },
      "source": [
        "!pip install portion"
      ],
      "execution_count": 0,
      "outputs": [
        {
          "output_type": "stream",
          "text": [
            "Collecting portion\n",
            "  Downloading https://files.pythonhosted.org/packages/ac/63/d7219b567f515cea4b07d2decde1f46fd64244d4f69dddc3ab4e67b0349d/portion-2.0.0-py3-none-any.whl\n",
            "Installing collected packages: portion\n",
            "Successfully installed portion-2.0.0\n"
          ],
          "name": "stdout"
        }
      ]
    },
    {
      "cell_type": "markdown",
      "metadata": {
        "colab_type": "text",
        "id": "4waNnspynCg0"
      },
      "source": [
        "# Matplotlib"
      ]
    },
    {
      "cell_type": "markdown",
      "metadata": {
        "colab_type": "text",
        "id": "Q7GnVQx1Mv1S"
      },
      "source": [
        "3. Utwórz wspólny wykres funkcji $1/(1+e^{-\\beta x}) $ w przedziale $<-10,10>$ dla $\\beta = [0.1,0.5, 1]$ . Dodaj legendę."
      ]
    },
    {
      "cell_type": "code",
      "metadata": {
        "id": "Rssc6OptclyL",
        "colab_type": "code",
        "outputId": "05cc7379-a86d-4cfe-9321-bf3b6c43e22d",
        "colab": {
          "base_uri": "https://localhost:8080/",
          "height": 283
        }
      },
      "source": [
        "import matplotlib.pyplot as plt\n",
        "\n",
        "plots = pd.DataFrame({ 'x': np.arange(-10,10.5,0.5),\n",
        "                      'beta01': 1/(1+np.exp(-0.1*np.arange(-10,10.5,0.5))),\n",
        "                      'beta05': 1/(1+np.exp(-0.5*np.arange(-10,10.5,0.5))),\n",
        "                      'beta1': 1/(1+np.exp(-1*np.arange(-10,10.5,0.5)))\n",
        "})\n",
        "plots.head()\n",
        "\n",
        "plt.plot('x', 'beta01', data = plots)\n",
        "plt.plot('x', 'beta05', data = plots)\n",
        "plt.plot('x', 'beta1', data = plots)\n",
        "plt.legend()"
      ],
      "execution_count": 0,
      "outputs": [
        {
          "output_type": "execute_result",
          "data": {
            "text/plain": [
              "<matplotlib.legend.Legend at 0x7f65a8b10470>"
            ]
          },
          "metadata": {
            "tags": []
          },
          "execution_count": 31
        },
        {
          "output_type": "display_data",
          "data": {
            "image/png": "[encoded data removed]",
            "text/plain": [
              "<Figure size 432x288 with 1 Axes>"
            ]
          },
          "metadata": {
            "tags": []
          }
        }
      ]
    },
    {
      "cell_type": "markdown",
      "metadata": {
        "colab_type": "text",
        "id": "d4_n8ngXFB4D"
      },
      "source": [
        "4.Wczytaj dowolny kolorowy obraz wykorzystując matplotlib.image. Jaki jest typ wczytanych danych? Jakie wymiary mają dane? Wyświetl obraz w kolorze."
      ]
    },
    {
      "cell_type": "code",
      "metadata": {
        "id": "Bn-BF7Xs1taf",
        "colab_type": "code",
        "outputId": "c3fc10b6-3d1a-49cf-ad02-5b920f8ec6bc",
        "colab": {
          "base_uri": "https://localhost:8080/",
          "height": 269
        }
      },
      "source": [
        "import matplotlib.pyplot as plt\n",
        "import matplotlib.image as mpimg\n",
        "\n",
        "img=mpimg.imread('goat.png')\n",
        "imgplot = plt.imshow(img)"
      ],
      "execution_count": 0,
      "outputs": [
        {
          "output_type": "display_data",
          "data": {
            "image/png": "[encoded data removed]",
            "text/plain": [
              "<Figure size 432x288 with 1 Axes>"
            ]
          },
          "metadata": {
            "tags": []
          }
        }
      ]
    },
    {
      "cell_type": "code",
      "metadata": {
        "id": "1RNwegLe2tEp",
        "colab_type": "code",
        "colab": {
          "base_uri": "https://localhost:8080/",
          "height": 52
        },
        "outputId": "bbb715c5-9fd1-4a06-9a42-11b0290e3fd9"
      },
      "source": [
        "print (\"The type of the Image is:\")\n",
        "type(img)"
      ],
      "execution_count": 69,
      "outputs": [
        {
          "output_type": "stream",
          "text": [
            "The type of the Image is:\n"
          ],
          "name": "stdout"
        },
        {
          "output_type": "execute_result",
          "data": {
            "text/plain": [
              "numpy.ndarray"
            ]
          },
          "metadata": {
            "tags": []
          },
          "execution_count": 69
        }
      ]
    },
    {
      "cell_type": "code",
      "metadata": {
        "id": "aBv-eUt64at1",
        "colab_type": "code",
        "colab": {
          "base_uri": "https://localhost:8080/",
          "height": 52
        },
        "outputId": "d2160136-d42a-4113-b0ea-ed126873653b"
      },
      "source": [
        "print (\"The dimension of the Image is: \")\n",
        "img.shape"
      ],
      "execution_count": 71,
      "outputs": [
        {
          "output_type": "stream",
          "text": [
            "The dimension of the Image is: \n"
          ],
          "name": "stdout"
        },
        {
          "output_type": "execute_result",
          "data": {
            "text/plain": [
              "(848, 860, 4)"
            ]
          },
          "metadata": {
            "tags": []
          },
          "execution_count": 71
        }
      ]
    }
  ]
}